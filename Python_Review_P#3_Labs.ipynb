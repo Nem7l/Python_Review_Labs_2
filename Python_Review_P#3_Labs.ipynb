{
 "cells": [
  {
   "cell_type": "markdown",
   "id": "2d4a0e4d",
   "metadata": {},
   "source": [
    "## Lab1-Lists\n",
    "Given the following list : [5, 4, 17, 19, 30, 2, 7, 10, 45]\n",
    "- Q1: Write a Python program to sum all the items in the list.\n",
    "- Q2: Write a Python program to get the largest number from the list.\n",
    "- Q3: Use list comprehension, create a new list from the above list containing only even numbers.\n",
    "- Q4: Use list slicing to get a new list from the previous list starting from the start to the 5th element in the list."
   ]
  },
  {
   "cell_type": "code",
   "execution_count": 20,
   "id": "d7ceea5e",
   "metadata": {},
   "outputs": [
    {
     "name": "stdout",
     "output_type": "stream",
     "text": [
      "139\n"
     ]
    }
   ],
   "source": [
    "#Q1\n",
    "lst = [5, 4, 17, 19, 30, 2, 7, 10, 45]\n",
    "total = 0\n",
    "for i in lst:\n",
    "    total += i\n",
    "print(total)"
   ]
  },
  {
   "cell_type": "code",
   "execution_count": 21,
   "id": "99bf18c0",
   "metadata": {},
   "outputs": [
    {
     "name": "stdout",
     "output_type": "stream",
     "text": [
      "45\n"
     ]
    }
   ],
   "source": [
    "#Q2\n",
    "lst = [5, 4, 17, 19, 30, 2, 7, 10, 45]\n",
    "lst.sort()\n",
    "max = lst[-1]\n",
    "\n",
    "print(max)\n"
   ]
  },
  {
   "cell_type": "code",
   "execution_count": 32,
   "id": "0f7ae558",
   "metadata": {},
   "outputs": [
    {
     "name": "stdout",
     "output_type": "stream",
     "text": [
      "[4, 30, 2, 10]\n"
     ]
    }
   ],
   "source": [
    "#Q3\n",
    "lst = [5, 4, 17, 19, 30, 2, 7, 10, 45]\n",
    "new_list = [i for i in lst if i % 2 ==0]\n",
    "print(new_list)"
   ]
  },
  {
   "cell_type": "code",
   "execution_count": 34,
   "id": "33b7c1e0",
   "metadata": {},
   "outputs": [
    {
     "name": "stdout",
     "output_type": "stream",
     "text": [
      "[5, 4, 17, 19, 30]\n"
     ]
    }
   ],
   "source": [
    "#Q4\n",
    "lst = [5, 4, 17, 19, 30, 2, 7, 10, 45]\n",
    "print(lst[0:5])\n"
   ]
  },
  {
   "cell_type": "markdown",
   "id": "4df61e4c",
   "metadata": {},
   "source": [
    "## Lab2-Dictionary\n",
    "\n",
    "Build a phone book program that receives the phone number, and returns the name of the owner. \n",
    "You can follow the table below:\n",
    "\n",
    "| Name    | Number      |\n",
    "| -------- | ---------- |\n",
    "| Amal     | 1111111111 |\n",
    "| Mohammed | 2222222222 |\n",
    "| Khadijah | 3333333333 |\n",
    "| Abdullah  | 4444444444 |\n",
    "| Rawan    | 5555555555 |\n",
    "| Faisal   | 6666666666 |\n",
    "| Layla    | 7777777777 |\n",
    "\n",
    "\n",
    "- If the number exists, print the owner. Otherwise, print \"Sorry, the number is not found\".\n",
    "- If the number is less or more than 10 numbers, print \"This is invalid number\".\n",
    "- If the number contains letters or symbols, print \"This is invalid number\"."
   ]
  },
  {
   "cell_type": "code",
   "execution_count": 59,
   "id": "7d53c06c",
   "metadata": {},
   "outputs": [],
   "source": [
    "#lab2\n",
    "phone_book = {\n",
    "  \"1111111111\": \"Amal\",\n",
    "  \"2222222222\": \"Mohammed\",\n",
    "  \"3333333333\": \"Khadijah\",\n",
    "   \"4444444444\": \"Abdullah\", \n",
    "   \"5555555555\":\"Rawan\" ,\n",
    "   \"6666666666\": \"Faisal\",\n",
    "    \"7777777777\":\"Layla\"\n",
    "} \n",
    "def check_phone(phone_number):\n",
    "  phoneDigit= phone_number.isdigit()\n",
    "  if len(phone_number) != 10 or phoneDigit==False :\n",
    "        return \"This is an invalid number\"\n",
    "\n",
    "  try:\n",
    "        name = phone_book[phone_number]\n",
    "        return name\n",
    "  except Exception:\n",
    "        return \"Sorry, the number is not found\"\n",
    "\n",
    "\n",
    "\n",
    "#phone_test= \"4444444444\"\n",
    "#result=check_phone(phone_test)\n",
    "#print(result) \n",
    "\n"
   ]
  },
  {
   "cell_type": "code",
   "execution_count": 1,
   "id": "8f88ed6c",
   "metadata": {},
   "outputs": [
    {
     "name": "stdout",
     "output_type": "stream",
     "text": [
      "Invalid inputs!\n",
      "Invalid inputs!\n"
     ]
    }
   ],
   "source": [
    "#the bonus lab4\n",
    "while True:\n",
    "    try:\n",
    "        name = input(\"Enter your name: \")\n",
    "        age = int(input(\"Enter your age: \"))\n",
    "\n",
    "        if age >= 0 and age < 6:\n",
    "            print(\"Kid\")\n",
    "        elif age < 0:\n",
    "            print(\"Wrong age value, you cannot enter a value of 0 or less\")\n",
    "        elif age > 6:\n",
    "            total_cost = 0\n",
    "            items = int(input(\"Enter the number of items that you want: \"))\n",
    "            for i in range(items):\n",
    "                item_name = input(\"Enter the item name: \")\n",
    "                item_price = float(input(\"Enter the item price: \"))\n",
    "                item_quantity = int(input(\"Enter the item quantity: \"))\n",
    "\n",
    "                item_cost = item_quantity * item_price\n",
    "                total_cost += item_cost\n",
    "\n",
    "                print(\"Item cost :\", item_cost)\n",
    "                print(\"Total cost :\", total_cost)\n",
    "\n",
    "            if total_cost > 200:\n",
    "                discount = total_cost * 20/100\n",
    "                total_cost -= discount\n",
    "                print(\"Discount applied! New total cost :\", total_cost)\n",
    "            \n",
    "    except Exception:\n",
    "        print(\"Invalid inputs!\")\n",
    "\n",
    "    answer = input(\"Do you want to repeat from the start? Press 'Y' for yes or 'N' for no : \")\n",
    "    if answer == 'N' or answer == 'n':\n",
    "        break"
   ]
  }
 ],
 "metadata": {
  "kernelspec": {
   "display_name": "Python 3.11.0 64-bit",
   "language": "python",
   "name": "python3"
  },
  "language_info": {
   "codemirror_mode": {
    "name": "ipython",
    "version": 3
   },
   "file_extension": ".py",
   "mimetype": "text/x-python",
   "name": "python",
   "nbconvert_exporter": "python",
   "pygments_lexer": "ipython3",
   "version": "3.11.0"
  },
  "vscode": {
   "interpreter": {
    "hash": "aee8b7b246df8f9039afb4144a1f6fd8d2ca17a180786b69acc140d282b71a49"
   }
  }
 },
 "nbformat": 4,
 "nbformat_minor": 5
}
